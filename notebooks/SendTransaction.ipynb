{
 "cells": [
  {
   "cell_type": "code",
   "execution_count": null,
   "metadata": {},
   "outputs": [],
   "source": [
    "from solana.rpc.api import Client\n",
    "\n",
    "solana_client = Client(\"https://api.devnet.solana.com\")\n",
    "solana_client.is_connected()"
   ]
  },
  {
   "cell_type": "code",
   "execution_count": null,
   "metadata": {},
   "outputs": [],
   "source": [
    "from solana.account import Account\n",
    "\n",
    "acc1 = Account(bytes([8] * 32))\n",
    "tx = solana_client.request_airdrop(acc1.public_key(), 1000000)\n",
    "tx"
   ]
  },
  {
   "cell_type": "code",
   "execution_count": null,
   "metadata": {},
   "outputs": [],
   "source": [
    "solana_client.get_confirmed_transaction(tx[\"result\"])"
   ]
  },
  {
   "cell_type": "code",
   "execution_count": null,
   "metadata": {},
   "outputs": [],
   "source": [
    "solana_client.get_balance(acc1.public_key())"
   ]
  },
  {
   "cell_type": "code",
   "execution_count": null,
   "metadata": {},
   "outputs": [],
   "source": [
    "recent_blockhash = solana_client.get_recent_blockhash()\n",
    "recent_blockhash"
   ]
  },
  {
   "cell_type": "code",
   "execution_count": null,
   "metadata": {},
   "outputs": [],
   "source": [
    "from base58 import b58encode\n",
    "from solana.blockhash import Blockhash\n",
    "from solana.system_program import TransferParams, transfer\n",
    "from solana.transaction import Transaction\n",
    "from solana.publickey import PublicKey\n",
    "\n",
    "acc2_pubkey = PublicKey(\"83astBRguLMdt2h5U1Tpdq5tjFoJ6noeGwaY3mDLVcri\")\n",
    "tx = Transaction().add(transfer(\n",
    "    TransferParams(from_pubkey=acc1.public_key(), to_pubkey=acc2_pubkey, lamports=1000000)))\n",
    "tx.recent_blockhash = Blockhash(recent_blockhash[\"result\"][\"value\"][\"blockhash\"])\n",
    "tx.sign(acc1)\n",
    "solana_client.simulate_transaction(tx)"
   ]
  },
  {
   "cell_type": "code",
   "execution_count": null,
   "metadata": {},
   "outputs": [],
   "source": [
    "tx_sig = solana_client.send_raw_transaction(tx)\n",
    "tx_sig"
   ]
  },
  {
   "cell_type": "code",
   "execution_count": null,
   "metadata": {},
   "outputs": [],
   "source": [
    "solana_client.get_confirmed_transaction(tx_sig[\"result\"])"
   ]
  },
  {
   "cell_type": "code",
   "execution_count": null,
   "metadata": {},
   "outputs": [],
   "source": [
    "solana_client.get_balance(acc2_pubkey)"
   ]
  },
  {
   "cell_type": "code",
   "execution_count": null,
   "metadata": {},
   "outputs": [],
   "source": [
    "tx = Transaction().add(transfer(\n",
    "    TransferParams(from_pubkey=acc1.public_key(), to_pubkey=Account(2).public_key(), lamports=1000000)))\n",
    "tx_sig = solana_client.send_transaction(tx, acc1)\n",
    "tx_sig"
   ]
  },
  {
   "cell_type": "code",
   "execution_count": null,
   "metadata": {},
   "outputs": [],
   "source": [
    "solana_client.get_confirmed_transaction(tx_sig[\"result\"])"
   ]
  },
  {
   "cell_type": "code",
   "execution_count": null,
   "metadata": {},
   "outputs": [],
   "source": []
  }
 ],
 "metadata": {
  "kernelspec": {
   "display_name": "Python 3",
   "language": "python",
   "name": "python3"
  },
  "language_info": {
   "codemirror_mode": {
    "name": "ipython",
    "version": 3
   },
   "file_extension": ".py",
   "mimetype": "text/x-python",
   "name": "python",
   "nbconvert_exporter": "python",
   "pygments_lexer": "ipython3",
   "version": "3.7.3"
  }
 },
 "nbformat": 4,
 "nbformat_minor": 4
}
